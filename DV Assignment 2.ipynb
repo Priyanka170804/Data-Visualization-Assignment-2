{
 "cells": [
  {
   "cell_type": "code",
   "execution_count": 3,
   "id": "81f304a0",
   "metadata": {},
   "outputs": [
    {
     "name": "stdout",
     "output_type": "stream",
     "text": [
      "\n",
      "Note: you may need to restart the kernel to use updated packages.\n"
     ]
    },
    {
     "name": "stderr",
     "output_type": "stream",
     "text": [
      "\n",
      "EnvironmentLocationNotFound: Not a conda environment: C:\\Users\\PRIYANKA\n",
      "\n"
     ]
    }
   ],
   "source": [
    "conda install bokeh!\n"
   ]
  },
  {
   "cell_type": "code",
   "execution_count": 4,
   "id": "68c86aa9",
   "metadata": {},
   "outputs": [
    {
     "name": "stdout",
     "output_type": "stream",
     "text": [
      "Requirement already satisfied: bokeh in c:\\users\\priyanka b\\anaconda3\\lib\\site-packages (2.4.3)\n",
      "Requirement already satisfied: Jinja2>=2.9 in c:\\users\\priyanka b\\anaconda3\\lib\\site-packages (from bokeh) (3.1.2)\n",
      "Requirement already satisfied: packaging>=16.8 in c:\\users\\priyanka b\\anaconda3\\lib\\site-packages (from bokeh) (22.0)\n",
      "Requirement already satisfied: pillow>=7.1.0 in c:\\users\\priyanka b\\anaconda3\\lib\\site-packages (from bokeh) (9.4.0)\n",
      "Requirement already satisfied: PyYAML>=3.10 in c:\\users\\priyanka b\\anaconda3\\lib\\site-packages (from bokeh) (6.0)\n",
      "Requirement already satisfied: tornado>=5.1 in c:\\users\\priyanka b\\anaconda3\\lib\\site-packages (from bokeh) (6.1)\n",
      "Requirement already satisfied: numpy>=1.11.3 in c:\\users\\priyanka b\\anaconda3\\lib\\site-packages (from bokeh) (1.23.5)\n",
      "Requirement already satisfied: typing-extensions>=3.10.0 in c:\\users\\priyanka b\\anaconda3\\lib\\site-packages (from bokeh) (4.4.0)\n",
      "Requirement already satisfied: MarkupSafe>=2.0 in c:\\users\\priyanka b\\anaconda3\\lib\\site-packages (from Jinja2>=2.9->bokeh) (2.1.1)\n",
      "Note: you may need to restart the kernel to use updated packages.\n"
     ]
    }
   ],
   "source": [
    "pip install bokeh"
   ]
  },
  {
   "cell_type": "code",
   "execution_count": 10,
   "id": "17ad4bc2",
   "metadata": {},
   "outputs": [],
   "source": [
    "# importing the modules  \n",
    "from bokeh.plotting import figure, output_file, show  \n",
    "  \n",
    "# instantiating the figure object  \n",
    "graph = figure(title = \"Bokeh Line Graph\")  \n",
    "  \n",
    "# the points to be plotted  \n",
    "x = [1, 2, 3, 4, 5]  \n",
    "y = [5, 4, 3, 2, 1]  \n",
    "  \n",
    "# plotting the line graph  \n",
    "graph.line(x, y)  \n",
    "  \n",
    "# displaying the model  \n",
    "show(graph)"
   ]
  },
  {
   "cell_type": "code",
   "execution_count": 6,
   "id": "1e85b2c6",
   "metadata": {},
   "outputs": [],
   "source": [
    "# importing the modules \n",
    "from bokeh.plotting import figure, output_file, show \n",
    "  \n",
    "# instantiating the figure object \n",
    "graph = figure(title=\"Bokeh Line Graph\") \n",
    "  \n",
    "# the points to be plotted \n",
    "x = [1, 2, 3, 4, 5] \n",
    "y = [5, 4, 3, 2, 1] \n",
    "  \n",
    "# plotting the 1st line graph \n",
    "graph.line(x, x, legend_label=\"Line 1\") \n",
    "  \n",
    "# plotting the 2nd line graph with a \n",
    "# different color \n",
    "graph.line(y, x, legend_label=\"Line 2\", \n",
    "           line_color=\"green\") \n",
    "  \n",
    "# displaying the model \n",
    "show(graph) "
   ]
  },
  {
   "cell_type": "code",
   "execution_count": 7,
   "id": "b23a3f8b",
   "metadata": {},
   "outputs": [],
   "source": [
    "# importing the modules  \n",
    "from bokeh.plotting import figure, output_file, show  \n",
    "  \n",
    "# instantiating the figure object  \n",
    "graph = figure(title = \"Bokeh Bar Graph\")  \n",
    "  \n",
    "# the points to be plotted  \n",
    "x = [1, 2, 3, 4, 5]  \n",
    "y = [1, 2, 3, 4, 5]   \n",
    "  \n",
    "# height / thickness of the plot \n",
    "height = 0.5\n",
    "  \n",
    "# plotting the bar graph  \n",
    "graph.hbar(x, right = y, height = height)  \n",
    "  \n",
    "# displaying the model  \n",
    "show(graph)"
   ]
  },
  {
   "cell_type": "code",
   "execution_count": 8,
   "id": "0ee6daac",
   "metadata": {},
   "outputs": [],
   "source": [
    "# importing the modules  \n",
    "from bokeh.plotting import figure, output_file, show  \n",
    "  \n",
    "# instantiating the figure object  \n",
    "graph = figure(title = \"Bokeh Bar Graph\")  \n",
    "  \n",
    "# the points to be plotted  \n",
    "x = [1, 2, 3, 4, 5]  \n",
    "y = [1, 2, 3, 4, 5]   \n",
    "  \n",
    "# height / thickness of the plot \n",
    "width = 0.5\n",
    "  \n",
    "# plotting the bar graph  \n",
    "graph.vbar(x, top = y, width = width)  \n",
    "  \n",
    "# displaying the model  \n",
    "show(graph)"
   ]
  },
  {
   "cell_type": "code",
   "execution_count": 9,
   "id": "d9f1821e",
   "metadata": {},
   "outputs": [],
   "source": [
    "# importing the modules  \n",
    "from bokeh.plotting import figure, output_file, show  \n",
    "from bokeh.palettes import magma  \n",
    "import random  \n",
    "  \n",
    "      \n",
    "# instantiating the figure object  \n",
    "graph = figure(title = \"Bokeh Scatter Graph\")  \n",
    "  \n",
    "# points to be plotted  \n",
    "x = [n for n in range(256)]  \n",
    "y = [random.random() + 1 for n in range(256)]  \n",
    "  \n",
    "  \n",
    "# plotting the graph  \n",
    "graph.scatter(x, y)  \n",
    "  \n",
    "# displaying the model  \n",
    "show(graph)"
   ]
  },
  {
   "cell_type": "code",
   "execution_count": null,
   "id": "62a5ed33",
   "metadata": {},
   "outputs": [],
   "source": []
  }
 ],
 "metadata": {
  "kernelspec": {
   "display_name": "Python 3 (ipykernel)",
   "language": "python",
   "name": "python3"
  },
  "language_info": {
   "codemirror_mode": {
    "name": "ipython",
    "version": 3
   },
   "file_extension": ".py",
   "mimetype": "text/x-python",
   "name": "python",
   "nbconvert_exporter": "python",
   "pygments_lexer": "ipython3",
   "version": "3.10.9"
  }
 },
 "nbformat": 4,
 "nbformat_minor": 5
}
